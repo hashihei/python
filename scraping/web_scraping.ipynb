{
  "nbformat": 4,
  "nbformat_minor": 0,
  "metadata": {
    "colab": {
      "name": "web_scraping.ipynb",
      "provenance": [],
      "include_colab_link": true
    },
    "kernelspec": {
      "name": "python3",
      "display_name": "Python 3"
    }
  },
  "cells": [
    {
      "cell_type": "markdown",
      "metadata": {
        "id": "view-in-github",
        "colab_type": "text"
      },
      "source": [
        "<a href=\"https://colab.research.google.com/github/hashihei/python/blob/master/scraping/web_scraping.ipynb\" target=\"_parent\"><img src=\"https://colab.research.google.com/assets/colab-badge.svg\" alt=\"Open In Colab\"/></a>"
      ]
    },
    {
      "cell_type": "markdown",
      "metadata": {
        "id": "uV4EtIuW6HV5",
        "colab_type": "text"
      },
      "source": [
        "### インストール(Chrome, Selenium)"
      ]
    },
    {
      "cell_type": "code",
      "metadata": {
        "id": "JlnuOme15Yts",
        "colab_type": "code",
        "outputId": "3884a96c-161e-4a81-c8e4-bb7c6dc36567",
        "colab": {
          "base_uri": "https://localhost:8080/",
          "height": 1000
        }
      },
      "source": [
        "#利用ライブラリのインストール\n",
        "!apt-get update\n",
        "!apt install chromium-chromedriver\n",
        "!cp /usr/lib/chromium-browser/chromedriver /usr/bin\n",
        "!pip install selenium"
      ],
      "execution_count": 2,
      "outputs": [
        {
          "output_type": "stream",
          "text": [
            "\r0% [Working]\r            \rHit:1 http://archive.ubuntu.com/ubuntu bionic InRelease\n",
            "\r0% [Waiting for headers] [Connected to cloud.r-project.org (54.240.168.27)] [Co\r                                                                               \rGet:2 http://archive.ubuntu.com/ubuntu bionic-updates InRelease [88.7 kB]\n",
            "\r                                                                               \rGet:3 http://archive.ubuntu.com/ubuntu bionic-backports InRelease [74.6 kB]\n",
            "\r                                                                               \rGet:4 http://security.ubuntu.com/ubuntu bionic-security InRelease [88.7 kB]\n",
            "\r                                                                               \rHit:5 http://ppa.launchpad.net/graphics-drivers/ppa/ubuntu bionic InRelease\n",
            "\r                                                                               \rGet:6 http://ppa.launchpad.net/marutter/c2d4u3.5/ubuntu bionic InRelease [15.4 kB]\n",
            "Get:7 https://cloud.r-project.org/bin/linux/ubuntu bionic-cran35/ InRelease [3,626 B]\n",
            "Ign:8 https://developer.download.nvidia.com/compute/cuda/repos/ubuntu1804/x86_64  InRelease\n",
            "Ign:9 https://developer.download.nvidia.com/compute/machine-learning/repos/ubuntu1804/x86_64  InRelease\n",
            "Hit:10 https://developer.download.nvidia.com/compute/cuda/repos/ubuntu1804/x86_64  Release\n",
            "Get:11 https://developer.download.nvidia.com/compute/machine-learning/repos/ubuntu1804/x86_64  Release [564 B]\n",
            "Get:12 https://developer.download.nvidia.com/compute/machine-learning/repos/ubuntu1804/x86_64  Release.gpg [833 B]\n",
            "Get:13 http://archive.ubuntu.com/ubuntu bionic-updates/restricted amd64 Packages [35.0 kB]\n",
            "Get:14 http://archive.ubuntu.com/ubuntu bionic-updates/universe amd64 Packages [1,324 kB]\n",
            "Get:15 http://archive.ubuntu.com/ubuntu bionic-updates/main amd64 Packages [1,072 kB]\n",
            "Get:16 http://archive.ubuntu.com/ubuntu bionic-updates/multiverse amd64 Packages [10.8 kB]\n",
            "Get:17 http://security.ubuntu.com/ubuntu bionic-security/restricted amd64 Packages [21.3 kB]\n",
            "Get:18 http://security.ubuntu.com/ubuntu bionic-security/main amd64 Packages [776 kB]\n",
            "Get:19 http://security.ubuntu.com/ubuntu bionic-security/universe amd64 Packages [796 kB]\n",
            "Get:20 http://ppa.launchpad.net/marutter/c2d4u3.5/ubuntu bionic/main Sources [1,749 kB]\n",
            "Get:21 http://ppa.launchpad.net/marutter/c2d4u3.5/ubuntu bionic/main amd64 Packages [844 kB]\n",
            "Get:22 https://cloud.r-project.org/bin/linux/ubuntu bionic-cran35/ Packages [81.6 kB]\n",
            "Get:24 https://developer.download.nvidia.com/compute/machine-learning/repos/ubuntu1804/x86_64  Packages [30.4 kB]\n",
            "Fetched 7,014 kB in 2s (3,012 kB/s)\n",
            "Reading package lists... Done\n",
            "Reading package lists... Done\n",
            "Building dependency tree       \n",
            "Reading state information... Done\n",
            "The following package was automatically installed and is no longer required:\n",
            "  libnvidia-common-430\n",
            "Use 'apt autoremove' to remove it.\n",
            "The following additional packages will be installed:\n",
            "  chromium-browser chromium-browser-l10n chromium-codecs-ffmpeg-extra\n",
            "Suggested packages:\n",
            "  webaccounts-chromium-extension unity-chromium-extension adobe-flashplugin\n",
            "The following NEW packages will be installed:\n",
            "  chromium-browser chromium-browser-l10n chromium-chromedriver\n",
            "  chromium-codecs-ffmpeg-extra\n",
            "0 upgraded, 4 newly installed, 0 to remove and 21 not upgraded.\n",
            "Need to get 72.7 MB of archives.\n",
            "After this operation, 259 MB of additional disk space will be used.\n",
            "Get:1 http://archive.ubuntu.com/ubuntu bionic-updates/universe amd64 chromium-codecs-ffmpeg-extra amd64 79.0.3945.79-0ubuntu0.18.04.1 [1,079 kB]\n",
            "Get:2 http://archive.ubuntu.com/ubuntu bionic-updates/universe amd64 chromium-browser amd64 79.0.3945.79-0ubuntu0.18.04.1 [64.5 MB]\n",
            "Get:3 http://archive.ubuntu.com/ubuntu bionic-updates/universe amd64 chromium-browser-l10n all 79.0.3945.79-0ubuntu0.18.04.1 [3,094 kB]\n",
            "Get:4 http://archive.ubuntu.com/ubuntu bionic-updates/universe amd64 chromium-chromedriver amd64 79.0.3945.79-0ubuntu0.18.04.1 [3,976 kB]\n",
            "Fetched 72.7 MB in 1s (68.4 MB/s)\n",
            "Selecting previously unselected package chromium-codecs-ffmpeg-extra.\n",
            "(Reading database ... 135004 files and directories currently installed.)\n",
            "Preparing to unpack .../chromium-codecs-ffmpeg-extra_79.0.3945.79-0ubuntu0.18.04.1_amd64.deb ...\n",
            "Unpacking chromium-codecs-ffmpeg-extra (79.0.3945.79-0ubuntu0.18.04.1) ...\n",
            "Selecting previously unselected package chromium-browser.\n",
            "Preparing to unpack .../chromium-browser_79.0.3945.79-0ubuntu0.18.04.1_amd64.deb ...\n",
            "Unpacking chromium-browser (79.0.3945.79-0ubuntu0.18.04.1) ...\n",
            "Selecting previously unselected package chromium-browser-l10n.\n",
            "Preparing to unpack .../chromium-browser-l10n_79.0.3945.79-0ubuntu0.18.04.1_all.deb ...\n",
            "Unpacking chromium-browser-l10n (79.0.3945.79-0ubuntu0.18.04.1) ...\n",
            "Selecting previously unselected package chromium-chromedriver.\n",
            "Preparing to unpack .../chromium-chromedriver_79.0.3945.79-0ubuntu0.18.04.1_amd64.deb ...\n",
            "Unpacking chromium-chromedriver (79.0.3945.79-0ubuntu0.18.04.1) ...\n",
            "Setting up chromium-codecs-ffmpeg-extra (79.0.3945.79-0ubuntu0.18.04.1) ...\n",
            "Setting up chromium-browser (79.0.3945.79-0ubuntu0.18.04.1) ...\n",
            "update-alternatives: using /usr/bin/chromium-browser to provide /usr/bin/x-www-browser (x-www-browser) in auto mode\n",
            "update-alternatives: using /usr/bin/chromium-browser to provide /usr/bin/gnome-www-browser (gnome-www-browser) in auto mode\n",
            "Setting up chromium-chromedriver (79.0.3945.79-0ubuntu0.18.04.1) ...\n",
            "Setting up chromium-browser-l10n (79.0.3945.79-0ubuntu0.18.04.1) ...\n",
            "Processing triggers for hicolor-icon-theme (0.17-2) ...\n",
            "Processing triggers for mime-support (3.60ubuntu1) ...\n",
            "Processing triggers for man-db (2.8.3-2ubuntu0.1) ...\n",
            "cp: '/usr/lib/chromium-browser/chromedriver' and '/usr/bin/chromedriver' are the same file\n",
            "Collecting selenium\n",
            "\u001b[?25l  Downloading https://files.pythonhosted.org/packages/80/d6/4294f0b4bce4de0abf13e17190289f9d0613b0a44e5dd6a7f5ca98459853/selenium-3.141.0-py2.py3-none-any.whl (904kB)\n",
            "\u001b[K     |████████████████████████████████| 911kB 9.7MB/s \n",
            "\u001b[?25hRequirement already satisfied: urllib3 in /usr/local/lib/python3.6/dist-packages (from selenium) (1.24.3)\n",
            "Installing collected packages: selenium\n",
            "Successfully installed selenium-3.141.0\n"
          ],
          "name": "stdout"
        }
      ]
    },
    {
      "cell_type": "markdown",
      "metadata": {
        "id": "h3mWNgrU6R8K",
        "colab_type": "text"
      },
      "source": [
        "###  ライブラリのインポートと初期設定\n"
      ]
    },
    {
      "cell_type": "code",
      "metadata": {
        "id": "nh3d5guL5c0e",
        "colab_type": "code",
        "colab": {}
      },
      "source": [
        "#SeleniumとBeautifulSoupのライブラリをインポート\n",
        "from selenium import webdriver\n",
        "from selenium.webdriver.chrome.options import Options\n",
        "from bs4 import BeautifulSoup\n",
        "from selenium.webdriver.support.ui import WebDriverWait\n",
        "from selenium.webdriver.support import expected_conditions as EC\n",
        "from selenium.common.exceptions import TimeoutException\n",
        "from selenium.webdriver.common.by import By"
      ],
      "execution_count": 0,
      "outputs": []
    },
    {
      "cell_type": "markdown",
      "metadata": {
        "id": "TEvjHKt-6oaf",
        "colab_type": "text"
      },
      "source": [
        "### URL設定\n"
      ]
    },
    {
      "cell_type": "code",
      "metadata": {
        "id": "8NdVdkZP6npH",
        "colab_type": "code",
        "colab": {}
      },
      "source": [
        "#\n",
        "#Webdriverを初期設定する。\n",
        "#戻り値：初期設定済webdriver object\n",
        "#\n",
        "def createWebdriver():\n",
        "  # ブラウザをheadlessモード（バックグラウンドで動くモード）で立ち上げてwebsiteを表示、生成されたhtmlを取得し、BeautifulSoupで綺麗にする。\n",
        "  options = webdriver.ChromeOptions()\n",
        "  options.add_argument('--headless')\n",
        "  options.add_argument('--no-sandbox')\n",
        "  options.add_argument('--disable-dev-shm-usage')\n",
        "  wdriver = webdriver.Chrome('chromedriver',options=options)\n",
        "  wdriver.implicitly_wait(10)\n",
        "\n",
        "  return wdriver\n",
        "\n",
        "#\n",
        "#html source code を取得\n",
        "#引数：webdriver , urlstring\n",
        "#戻り値：webdriver\n",
        "#\n",
        "def getHTMLsrc(htmldriver,url):\n",
        "  #get html source code\n",
        "  htmldriver.get(get_url)\n",
        "\n",
        "  try:\n",
        "    WebDriverWait(htmldriver, 30).until(EC.presence_of_all_elements_located)\n",
        "  except TimeoutException as te:\n",
        "    #timeout error.\n",
        "    print(te)\n",
        "  except Exception as e:\n",
        "    #not timeout error.\n",
        "    print(e)\n",
        "\n",
        "  return htmldriver\n",
        "\n",
        "driver = createWebdriver()\n",
        "get_url = \"https://yahoo.co.jp\"\n",
        "\n",
        "driver = getHTMLsrc(driver,get_url)\n"
      ],
      "execution_count": 0,
      "outputs": []
    },
    {
      "cell_type": "code",
      "metadata": {
        "id": "6Q0YDltg5q9c",
        "colab_type": "code",
        "outputId": "d989cbf6-3fc3-4651-c986-ac57906cb523",
        "colab": {
          "base_uri": "https://localhost:8080/",
          "height": 89
        }
      },
      "source": [
        "html = driver.page_source.encode('utf-8')\n",
        "soup = BeautifulSoup(html, \"html.parser\")\n",
        "\n",
        "#print(soup.prettify()) #get all content\n",
        "soup.find_all(\"dt\", class_=\"sc-giadOv djwMPY\")"
      ],
      "execution_count": 5,
      "outputs": [
        {
          "output_type": "execute_result",
          "data": {
            "text/plain": [
              "[<dt class=\"sc-giadOv djwMPY\"><span class=\"sc-jWBwVP fVQvVT\"><svg height=\"28\" viewbox=\"0 0 70 50\" width=\"34\"><g fill=\"none\" fill-rule=\"nonzero\"><rect fill=\"#C3C3C3\" height=\"50\" rx=\"2\" width=\"70\"></rect><path d=\"M35 0H2a2 2 0 00-2 2v46a2 2 0 002 2h33V0z\" fill=\"#F5F5F5\"></path><path d=\"M0 48a2 2 0 002 2h66a2 2 0 002-2L35 16 0 48z\" fill=\"#E1E1E1\"></path><path d=\"M70 2L35.68 36.71a1 1 0 01-1.41 0L0 2h70z\" fill=\"#E6E6E6\" style=\"mix-blend-mode:multiply\"></path><path d=\"M68 0H2a2 2 0 00-2 2v.07L34.27 33a1 1 0 001.41 0L70 2a2 2 0 00-2-2z\" fill=\"#F03\"></path></g></svg></span></dt>,\n",
              " <dt class=\"sc-giadOv djwMPY\"><span class=\"sc-jWBwVP fVQvVT\"><svg height=\"28\" viewbox=\"0 0 70 70\" width=\"28\"><g fill=\"none\" fill-rule=\"nonzero\"><path d=\"M0 23.067h23.067v46.151H0z\" fill=\"#004098\"></path><path d=\"M0 0v23.067h23.067V69.22h23.084V23.067H69.22V0z\" fill=\"#FFF200\"></path><path d=\"M46.151 23.067h23.067v46.151H46.151z\" fill=\"#004098\"></path></g></svg></span></dt>,\n",
              " <dt class=\"sc-giadOv djwMPY\"><span class=\"sc-jWBwVP fVQvVT\"><svg height=\"28\" viewbox=\"0 0 70 70\" width=\"28\"><defs><path d=\"M0 .174h69.825v69.84H0z\" id=\"paypay_svg__a\"></path><path d=\"M0 .174h69.825v69.84H0z\" id=\"paypay_svg__c\"></path></defs><g fill=\"none\" fill-rule=\"evenodd\"><g transform=\"translate(0 -.188)\"><mask fill=\"#fff\" id=\"paypay_svg__b\"><use xlink:href=\"#paypay_svg__a\"></use></mask><path d=\"M59.502.174C65.18.174 69.825 4.82 69.825 10.5v49.188c0 5.679-4.645 10.325-10.323 10.325l-49.178.001C4.647 70.014 0 65.367 0 59.688V22.03L.028 9.947C.32 4.524 4.833.174 10.325.174h49.177\" fill=\"#FFF\" mask=\"url(#paypay_svg__b)\"></path></g><g transform=\"translate(0 -.188)\"><mask fill=\"#fff\" id=\"paypay_svg__d\"><use xlink:href=\"#paypay_svg__c\"></use></mask><path d=\"M59.502.174H10.325C4.833.174.32 4.524.028 9.947c41.171-1.163 61.198 13.165 58.054 27.448-2.831 12.86-15.894 17.791-37.12 19.41l-3.175 13.208h41.715c5.678 0 10.323-4.646 10.323-10.325V10.5C69.825 4.821 65.18.174 59.502.174zm-3.907 37.284c1.635-6.671-9.116-12.842-26.337-15.173l-6.252 26.013c14.433.683 30.828-3.662 32.589-10.84zM13.599 70.014h-3.275C4.647 70.014 0 65.367 0 59.688V22.03c9.266-.937 17.908-.918 25.486-.18L13.599 70.014z\" fill=\"#F03\" mask=\"url(#paypay_svg__d)\"></path></g></g></svg></span></dt>]"
            ]
          },
          "metadata": {
            "tags": []
          },
          "execution_count": 5
        }
      ]
    },
    {
      "cell_type": "code",
      "metadata": {
        "id": "S2d9dgFs9iPY",
        "colab_type": "code",
        "colab": {}
      },
      "source": [
        ""
      ],
      "execution_count": 0,
      "outputs": []
    }
  ]
}